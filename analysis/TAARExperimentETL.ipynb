{
 "cells": [
  {
   "cell_type": "markdown",
   "metadata": {},
   "source": [
    "Reorganizes the TAAR shield add-on pings and writes to s3 as a spark DataFrame.\n",
    "\n",
    "Some things to note:\n",
    "\n",
    "* Shield pings send the following data by default:\n",
    "\n",
    "  ```\n",
    "[\n",
    "     'clientId',\n",
    "     'id',\n",
    "     'environment',\n",
    "     'application',\n",
    "     'version',\n",
    "     'meta',\n",
    "     'creationDate',\n",
    "     'type'\n",
    " ]\n",
    "     ```\n",
    "     \n",
    "    + This allows us to get some things for free, namely `locale` in `environment/settings`\n",
    "    \n",
    "    \n",
    "    \n",
    "* The `payload` field contains all our data explicitly sent from the shield add-on.\n",
    "    "
   ]
  },
  {
   "cell_type": "code",
   "execution_count": 1,
   "metadata": {
    "collapsed": false
   },
   "outputs": [],
   "source": [
    "from moztelemetry import Dataset, get_pings_properties\n",
    "from pyspark.sql import Row\n",
    "import datetime as dt\n",
    "\n",
    "sc.setLogLevel(\"INFO\")"
   ]
  },
  {
   "cell_type": "code",
   "execution_count": 2,
   "metadata": {
    "collapsed": false
   },
   "outputs": [
    {
     "name": "stdout",
     "output_type": "stream",
     "text": [
      "20170912\n"
     ]
    }
   ],
   "source": [
    "yesterday = dt.datetime.strftime(dt.datetime.today() + dt.timedelta(-1), \"%Y%m%d\")\n",
    "print yesterday"
   ]
  },
  {
   "cell_type": "code",
   "execution_count": 3,
   "metadata": {
    "collapsed": false
   },
   "outputs": [
    {
     "name": "stdout",
     "output_type": "stream",
     "text": [
      "fetching 60.80304MB in 1641 files...\n"
     ]
    }
   ],
   "source": [
    "pings = Dataset.from_source(\"telemetry\")\\\n",
    "               .where(docType=\"shield-study-addon\")\\\n",
    "               .where(submissionDate=yesterday).records(sc)"
   ]
  },
  {
   "cell_type": "code",
   "execution_count": 4,
   "metadata": {
    "collapsed": false
   },
   "outputs": [],
   "source": [
    "taar_pings = pings.filter(lambda x: x.get(\"payload\", {}).get(\"study_name\") == \"TAARExperiment\")"
   ]
  },
  {
   "cell_type": "code",
   "execution_count": 5,
   "metadata": {
    "collapsed": false
   },
   "outputs": [
    {
     "data": {
      "text/plain": [
       "7"
      ]
     },
     "execution_count": 5,
     "metadata": {},
     "output_type": "execute_result"
    }
   ],
   "source": [
    "taar_pings.count()"
   ]
  },
  {
   "cell_type": "code",
   "execution_count": 6,
   "metadata": {
    "collapsed": false
   },
   "outputs": [],
   "source": [
    "subset = get_pings_properties(taar_pings, [\"clientId\", \n",
    "                              \"environment/settings/locale\", \n",
    "                              \"application/platformVersion\",\n",
    "                              \"payload/branch\",\n",
    "                              \"payload/data/attributes\",\n",
    "                              \"payload/testing\",\n",
    "                              \"meta/submissionDate\"])\n",
    "\n",
    "def collapse_fields(x):\n",
    "    data = x.get(\"payload/data/attributes\", {})\n",
    "    result = Row(\n",
    "        client_id=x.get(\"clientId\"),\n",
    "        locale=x.get('environment/settings/locale'),\n",
    "        branch=x.get(\"payload/branch\"),\n",
    "        addon_id=data.get(\"addon_id\"),\n",
    "        clicked_button=data.get(\"clickedButton\"),\n",
    "        ping_type=data.get(\"pingType\"),\n",
    "        saw_popup=data.get(\"sawPopup\"),\n",
    "        src=data.get(\"srcURI\"),\n",
    "        start_time=data.get(\"startTime\"),\n",
    "        testing=x.get(\"payload/testing\"),\n",
    "        submission_date_s3=x.get(\"meta/submissionDate\")\n",
    "        )\n",
    "    return result"
   ]
  },
  {
   "cell_type": "code",
   "execution_count": 7,
   "metadata": {
    "collapsed": false
   },
   "outputs": [],
   "source": [
    "collapsed_subset = subset.map(collapse_fields)"
   ]
  },
  {
   "cell_type": "markdown",
   "metadata": {},
   "source": [
    "Our analysis is going to perform aggregations by branch. We can partition by `submission_date_s3` (as this is run daily), and `branch`, to make the experiment analysis more performant."
   ]
  },
  {
   "cell_type": "code",
   "execution_count": 15,
   "metadata": {
    "collapsed": false
   },
   "outputs": [],
   "source": [
    "for branch in collapsed_subset.map(lambda x: x.branch).distinct().collect():\n",
    "    # convert RDD to df and repartition\n",
    "    # drop partitioned columns\n",
    "    df = collapsed_subset.toDF().repartition(10)\\\n",
    "                         .drop(\"submission_date_s3\")\\\n",
    "                         .drop(\"branch\")\n",
    "            \n",
    "    df.write.format(\"parquet\")\\\n",
    "      .save('s3://telemetry-test-bucket/bmiroglio/TAAR/submission_date_s3={}/branch={}'\\\n",
    "            .format(yesterday, branch), mode='overwrite')"
   ]
  },
  {
   "cell_type": "code",
   "execution_count": null,
   "metadata": {
    "collapsed": true
   },
   "outputs": [],
   "source": []
  }
 ],
 "metadata": {
  "anaconda-cloud": {},
  "kernelspec": {
   "display_name": "Python [conda root]",
   "language": "python",
   "name": "conda-root-py"
  },
  "language_info": {
   "codemirror_mode": {
    "name": "ipython",
    "version": 2
   },
   "file_extension": ".py",
   "mimetype": "text/x-python",
   "name": "python",
   "nbconvert_exporter": "python",
   "pygments_lexer": "ipython2",
   "version": "2.7.12"
  }
 },
 "nbformat": 4,
 "nbformat_minor": 1
}
